{
 "cells": [
  {
   "cell_type": "markdown",
   "metadata": {},
   "source": [
    "# Programação orientado a objetos"
   ]
  },
  {
   "cell_type": "code",
   "execution_count": 1,
   "metadata": {},
   "outputs": [],
   "source": [
    "class humano:\n",
    "    \n",
    "    \"\"\"definir um ser humano primitivo\"\"\"\n",
    "    \n",
    "    def __init__(self, nome, sexo):\n",
    "        self.nome = nome\n",
    "        self.sexo = sexo\n",
    "        \n",
    "    def dormir(self):\n",
    "        self.status = 'dormindo'\n",
    "        print(f\"{self.nome} está {self.status}\")\n",
    "    \n",
    "    def acordar(self):\n",
    "        self.status = 'acordado'\n",
    "        print(f\"{self.nome} está {self.status}\")\n",
    "    \n",
    "    def descrever(self):\n",
    "        print(f\"{self.nome} é um(a) {self.sexo} e no momento está {self.status}\")\n"
   ]
  },
  {
   "cell_type": "code",
   "execution_count": 2,
   "metadata": {},
   "outputs": [],
   "source": [
    "sophia = humano(sexo = 'Mulher', nome = \"Sophia\")\n",
    "\n",
    "#sophia = humano(\"Sophia\", 'Mulher')\n"
   ]
  },
  {
   "cell_type": "code",
   "execution_count": 3,
   "metadata": {},
   "outputs": [
    {
     "ename": "AttributeError",
     "evalue": "'humano' object has no attribute 'status'",
     "output_type": "error",
     "traceback": [
      "\u001b[0;31m---------------------------------------------------------------------------\u001b[0m",
      "\u001b[0;31mAttributeError\u001b[0m                            Traceback (most recent call last)",
      "\u001b[0;32m<ipython-input-3-64b6569c296e>\u001b[0m in \u001b[0;36m<module>\u001b[0;34m\u001b[0m\n\u001b[0;32m----> 1\u001b[0;31m \u001b[0msophia\u001b[0m\u001b[0;34m.\u001b[0m\u001b[0mdescrever\u001b[0m\u001b[0;34m(\u001b[0m\u001b[0;34m)\u001b[0m\u001b[0;34m\u001b[0m\u001b[0;34m\u001b[0m\u001b[0m\n\u001b[0m",
      "\u001b[0;32m<ipython-input-1-3d38c8fcaa26>\u001b[0m in \u001b[0;36mdescrever\u001b[0;34m(self)\u001b[0m\n\u001b[1;32m     16\u001b[0m \u001b[0;34m\u001b[0m\u001b[0m\n\u001b[1;32m     17\u001b[0m     \u001b[0;32mdef\u001b[0m \u001b[0mdescrever\u001b[0m\u001b[0;34m(\u001b[0m\u001b[0mself\u001b[0m\u001b[0;34m)\u001b[0m\u001b[0;34m:\u001b[0m\u001b[0;34m\u001b[0m\u001b[0;34m\u001b[0m\u001b[0m\n\u001b[0;32m---> 18\u001b[0;31m         \u001b[0mprint\u001b[0m\u001b[0;34m(\u001b[0m\u001b[0;34mf\"{self.nome} é um(a) {self.sexo} e no momento está {self.status}\"\u001b[0m\u001b[0;34m)\u001b[0m\u001b[0;34m\u001b[0m\u001b[0;34m\u001b[0m\u001b[0m\n\u001b[0m",
      "\u001b[0;31mAttributeError\u001b[0m: 'humano' object has no attribute 'status'"
     ]
    }
   ],
   "source": [
    "sophia.descrever()"
   ]
  },
  {
   "cell_type": "code",
   "execution_count": 4,
   "metadata": {},
   "outputs": [
    {
     "name": "stdout",
     "output_type": "stream",
     "text": [
      "Sophia está dormindo\n"
     ]
    }
   ],
   "source": [
    "sophia.dormir()"
   ]
  },
  {
   "cell_type": "code",
   "execution_count": 5,
   "metadata": {},
   "outputs": [
    {
     "name": "stdout",
     "output_type": "stream",
     "text": [
      "Sophia é um(a) Mulher e no momento está dormindo\n"
     ]
    }
   ],
   "source": [
    "sophia.descrever()"
   ]
  },
  {
   "cell_type": "code",
   "execution_count": 6,
   "metadata": {},
   "outputs": [
    {
     "name": "stdout",
     "output_type": "stream",
     "text": [
      "Sophia está acordado\n"
     ]
    }
   ],
   "source": [
    "sophia.acordar()"
   ]
  },
  {
   "cell_type": "code",
   "execution_count": 7,
   "metadata": {},
   "outputs": [
    {
     "name": "stdout",
     "output_type": "stream",
     "text": [
      "Sophia é um(a) Mulher e no momento está acordado\n"
     ]
    }
   ],
   "source": [
    "sophia.descrever()"
   ]
  },
  {
   "cell_type": "code",
   "execution_count": 8,
   "metadata": {},
   "outputs": [
    {
     "data": {
      "text/plain": [
       "'Mulher'"
      ]
     },
     "execution_count": 8,
     "metadata": {},
     "output_type": "execute_result"
    }
   ],
   "source": [
    "sophia.sexo"
   ]
  },
  {
   "cell_type": "code",
   "execution_count": 9,
   "metadata": {},
   "outputs": [],
   "source": [
    "class humano:\n",
    "    \n",
    "    \"\"\"definir um ser humano primitivo\"\"\"\n",
    "    \n",
    "    def __init__(self, nome, sexo):\n",
    "        self.nome = nome\n",
    "        self.sexo = sexo\n",
    "        self.status = 'acordado'\n",
    "        \n",
    "    def dormir(self):\n",
    "        self.status = 'dormindo'\n",
    "        print(f\"{self.nome} está {self.status}\")\n",
    "    \n",
    "    def acordar(self):\n",
    "        self.status = 'acordado'\n",
    "        print(f\"{self.nome} está {self.status}\")\n",
    "    \n",
    "    def descrever(self):\n",
    "        print(f\"{self.nome} é um(a) {self.sexo} e no momento está {self.status}\")\n"
   ]
  },
  {
   "cell_type": "code",
   "execution_count": 10,
   "metadata": {},
   "outputs": [],
   "source": [
    "sophia = humano(sexo = 'Mulher', nome = \"Sophia\")\n"
   ]
  },
  {
   "cell_type": "code",
   "execution_count": 11,
   "metadata": {},
   "outputs": [
    {
     "name": "stdout",
     "output_type": "stream",
     "text": [
      "Sophia é um(a) Mulher e no momento está acordado\n"
     ]
    }
   ],
   "source": [
    "sophia.descrever()"
   ]
  },
  {
   "cell_type": "code",
   "execution_count": 12,
   "metadata": {},
   "outputs": [],
   "source": [
    "a = 'Hello World'"
   ]
  },
  {
   "cell_type": "code",
   "execution_count": 13,
   "metadata": {},
   "outputs": [
    {
     "data": {
      "text/plain": [
       "'hello world'"
      ]
     },
     "execution_count": 13,
     "metadata": {},
     "output_type": "execute_result"
    }
   ],
   "source": [
    "a.lower()"
   ]
  },
  {
   "cell_type": "code",
   "execution_count": 14,
   "metadata": {},
   "outputs": [],
   "source": [
    "heitor = humano(sexo = 'Homem', nome = \"Heitor\")\n"
   ]
  },
  {
   "cell_type": "code",
   "execution_count": 15,
   "metadata": {},
   "outputs": [
    {
     "name": "stdout",
     "output_type": "stream",
     "text": [
      "Heitor é um(a) Homem e no momento está acordado\n"
     ]
    }
   ],
   "source": [
    "heitor.descrever()"
   ]
  },
  {
   "cell_type": "code",
   "execution_count": 16,
   "metadata": {},
   "outputs": [],
   "source": [
    "class humano:\n",
    "    \n",
    "    \"\"\"definir um ser humano primitivo\"\"\"\n",
    "    \n",
    "    def __init__(self, nome, sexo):\n",
    "        self.nome = nome\n",
    "        self.sexo = sexo\n",
    "        self.status = 'acordado'\n",
    "        self.idade = 0\n",
    "        \n",
    "    def dormir(self):\n",
    "        self.status = 'dormindo'\n",
    "        print(f\"{self.nome} está {self.status}\")\n",
    "    \n",
    "    def acordar(self):\n",
    "        self.status = 'acordado'\n",
    "        print(f\"{self.nome} está {self.status}\")\n",
    "    \n",
    "    def descrever(self):\n",
    "        print(f\"{self.nome} é um(a) {self.sexo} e no momento está {self.status}\")\n",
    "    \n",
    "    def aniversario(self):\n",
    "        self.idade += 1\n",
    "        print(f\"{self.nome} cresceu um ano e agora tem {self.idade} ano(s)\")"
   ]
  },
  {
   "cell_type": "code",
   "execution_count": 17,
   "metadata": {},
   "outputs": [],
   "source": [
    "yasmin = humano(\"Yasmin\", \"Mulher\")"
   ]
  },
  {
   "cell_type": "code",
   "execution_count": 19,
   "metadata": {},
   "outputs": [
    {
     "data": {
      "text/plain": [
       "'acordado'"
      ]
     },
     "execution_count": 19,
     "metadata": {},
     "output_type": "execute_result"
    }
   ],
   "source": [
    "yasmin.status"
   ]
  },
  {
   "cell_type": "code",
   "execution_count": 20,
   "metadata": {},
   "outputs": [
    {
     "name": "stdout",
     "output_type": "stream",
     "text": [
      "Yasmin é um(a) Mulher e no momento está acordado\n"
     ]
    }
   ],
   "source": [
    "yasmin.descrever()"
   ]
  },
  {
   "cell_type": "code",
   "execution_count": 21,
   "metadata": {},
   "outputs": [
    {
     "name": "stdout",
     "output_type": "stream",
     "text": [
      "Yasmin cresceu um ano e agora tem 1 ano(s)\n"
     ]
    }
   ],
   "source": [
    "yasmin.aniversario()"
   ]
  },
  {
   "cell_type": "code",
   "execution_count": 22,
   "metadata": {},
   "outputs": [
    {
     "name": "stdout",
     "output_type": "stream",
     "text": [
      "Yasmin é um(a) Mulher e no momento está acordado\n"
     ]
    }
   ],
   "source": [
    "yasmin.descrever()"
   ]
  },
  {
   "cell_type": "code",
   "execution_count": 23,
   "metadata": {},
   "outputs": [
    {
     "name": "stdout",
     "output_type": "stream",
     "text": [
      "Yasmin cresceu um ano e agora tem 2 ano(s)\n"
     ]
    }
   ],
   "source": [
    "yasmin.aniversario()"
   ]
  },
  {
   "cell_type": "code",
   "execution_count": 24,
   "metadata": {},
   "outputs": [
    {
     "data": {
      "text/plain": [
       "2"
      ]
     },
     "execution_count": 24,
     "metadata": {},
     "output_type": "execute_result"
    }
   ],
   "source": [
    "yasmin.idade"
   ]
  },
  {
   "cell_type": "code",
   "execution_count": 25,
   "metadata": {},
   "outputs": [
    {
     "name": "stdout",
     "output_type": "stream",
     "text": [
      "Yasmin cresceu um ano e agora tem 3 ano(s)\n"
     ]
    }
   ],
   "source": [
    "yasmin.aniversario()"
   ]
  },
  {
   "cell_type": "code",
   "execution_count": 26,
   "metadata": {},
   "outputs": [],
   "source": [
    "yasmin.idade = 20"
   ]
  },
  {
   "cell_type": "code",
   "execution_count": 27,
   "metadata": {},
   "outputs": [
    {
     "name": "stdout",
     "output_type": "stream",
     "text": [
      "Yasmin cresceu um ano e agora tem 21 ano(s)\n"
     ]
    }
   ],
   "source": [
    "yasmin.aniversario()"
   ]
  },
  {
   "cell_type": "code",
   "execution_count": 29,
   "metadata": {},
   "outputs": [],
   "source": [
    "class humano:\n",
    "    \n",
    "    \"\"\"definir um ser humano primitivo\"\"\"\n",
    "    \n",
    "    def __init__(self, nome, sexo):\n",
    "        self.nome = nome\n",
    "        self.sexo = sexo\n",
    "        self.status = 'acordado'\n",
    "        self._idade = 0\n",
    "        \n",
    "    def dormir(self):\n",
    "        self.status = 'dormindo'\n",
    "        print(f\"{self.nome} está {self.status}\")\n",
    "    \n",
    "    def acordar(self):\n",
    "        self.status = 'acordado'\n",
    "        print(f\"{self.nome} está {self.status}\")\n",
    "    \n",
    "    def descrever(self):\n",
    "        print(f\"{self.nome} é um(a) {self.sexo} e no momento está {self.status}\")\n",
    "    \n",
    "    def aniversario(self):\n",
    "        self._idade += 1\n",
    "        print(f\"{self.nome} cresceu um ano e agora tem {self._idade} ano(s)\")\n",
    "    \n",
    "    def isfeliz(self):\n",
    "        import numpy as np\n",
    "        self.feliz = np.random.choice([\"não está\", 'está'],\n",
    "                                     p = [0.1, 0.9])\n",
    "        print(f\"{self.nome} {self.feliz} feliz\")"
   ]
  },
  {
   "cell_type": "code",
   "execution_count": 30,
   "metadata": {},
   "outputs": [],
   "source": [
    "renan = humano(\"Renan\", \"Homem\")"
   ]
  },
  {
   "cell_type": "code",
   "execution_count": 31,
   "metadata": {},
   "outputs": [
    {
     "name": "stdout",
     "output_type": "stream",
     "text": [
      "Renan está feliz\n"
     ]
    }
   ],
   "source": [
    "renan.isfeliz()"
   ]
  },
  {
   "cell_type": "code",
   "execution_count": 32,
   "metadata": {},
   "outputs": [
    {
     "name": "stdout",
     "output_type": "stream",
     "text": [
      "Renan está feliz\n"
     ]
    }
   ],
   "source": [
    "renan.isfeliz()"
   ]
  },
  {
   "cell_type": "code",
   "execution_count": 33,
   "metadata": {},
   "outputs": [
    {
     "name": "stdout",
     "output_type": "stream",
     "text": [
      "Renan está feliz\n"
     ]
    }
   ],
   "source": [
    "renan.isfeliz()"
   ]
  },
  {
   "cell_type": "code",
   "execution_count": 34,
   "metadata": {},
   "outputs": [
    {
     "name": "stdout",
     "output_type": "stream",
     "text": [
      "Renan está feliz\n"
     ]
    }
   ],
   "source": [
    "renan.isfeliz()"
   ]
  },
  {
   "cell_type": "code",
   "execution_count": 35,
   "metadata": {},
   "outputs": [
    {
     "name": "stdout",
     "output_type": "stream",
     "text": [
      "Renan está feliz\n"
     ]
    }
   ],
   "source": [
    "renan.isfeliz()"
   ]
  },
  {
   "cell_type": "code",
   "execution_count": 36,
   "metadata": {},
   "outputs": [
    {
     "name": "stdout",
     "output_type": "stream",
     "text": [
      "Renan não está feliz\n"
     ]
    }
   ],
   "source": [
    "renan.isfeliz()"
   ]
  },
  {
   "cell_type": "markdown",
   "metadata": {},
   "source": [
    "## Herança"
   ]
  },
  {
   "cell_type": "code",
   "execution_count": 43,
   "metadata": {},
   "outputs": [],
   "source": [
    "class uerjiano(humano):\n",
    "    \n",
    "    def __init__(self, nome, sexo, curso, ano):\n",
    "        \n",
    "        super().__init__(nome, sexo)\n",
    "        \n",
    "        self.curso = curso\n",
    "        self.ano = ano\n",
    "        self.period = 0\n",
    "        \n",
    "    def periodo(self):\n",
    "        from datetime import datetime\n",
    "        \n",
    "        self.period = datetime.now().year - int(self.ano)\n",
    "        print(f\"{self.nome} está no periodo {2 * self.period}\")\n",
    "    "
   ]
  },
  {
   "cell_type": "code",
   "execution_count": 44,
   "metadata": {},
   "outputs": [
    {
     "ename": "TypeError",
     "evalue": "__init__() missing 2 required positional arguments: 'curso' and 'ano'",
     "output_type": "error",
     "traceback": [
      "\u001b[0;31m---------------------------------------------------------------------------\u001b[0m",
      "\u001b[0;31mTypeError\u001b[0m                                 Traceback (most recent call last)",
      "\u001b[0;32m<ipython-input-44-720fa29d5e0f>\u001b[0m in \u001b[0;36m<module>\u001b[0;34m\u001b[0m\n\u001b[0;32m----> 1\u001b[0;31m \u001b[0mgustavo\u001b[0m \u001b[0;34m=\u001b[0m \u001b[0muerjiano\u001b[0m\u001b[0;34m(\u001b[0m\u001b[0;34m\"Gustavo\"\u001b[0m\u001b[0;34m,\u001b[0m \u001b[0;34m\"Homem\"\u001b[0m\u001b[0;34m)\u001b[0m\u001b[0;34m\u001b[0m\u001b[0;34m\u001b[0m\u001b[0m\n\u001b[0m",
      "\u001b[0;31mTypeError\u001b[0m: __init__() missing 2 required positional arguments: 'curso' and 'ano'"
     ]
    }
   ],
   "source": [
    "gustavo = uerjiano(\"Gustavo\", \"Homem\")"
   ]
  },
  {
   "cell_type": "code",
   "execution_count": 45,
   "metadata": {},
   "outputs": [],
   "source": [
    "gustavo = uerjiano(\"Gustavo\", \"Homem\", \"mecanica\", ano = 2015)"
   ]
  },
  {
   "cell_type": "code",
   "execution_count": 47,
   "metadata": {},
   "outputs": [
    {
     "name": "stdout",
     "output_type": "stream",
     "text": [
      "Gustavo está no periodo 10\n"
     ]
    }
   ],
   "source": [
    "gustavo.periodo()"
   ]
  },
  {
   "cell_type": "code",
   "execution_count": 48,
   "metadata": {},
   "outputs": [
    {
     "data": {
      "text/plain": [
       "'Homem'"
      ]
     },
     "execution_count": 48,
     "metadata": {},
     "output_type": "execute_result"
    }
   ],
   "source": [
    "gustavo.sexo"
   ]
  },
  {
   "cell_type": "code",
   "execution_count": 55,
   "metadata": {},
   "outputs": [],
   "source": [
    "class uerjiano(humano):\n",
    "    \n",
    "    def __init__(self, nome, sexo, curso, ano):\n",
    "        \n",
    "        super().__init__(nome, sexo)\n",
    "        \n",
    "        self.curso = curso\n",
    "        self.ano = ano\n",
    "        self.period = 0\n",
    "        self.feliz = 'está'\n",
    "        \n",
    "    def periodo(self):\n",
    "        from datetime import datetime\n",
    "        \n",
    "        self.period = datetime.now().year - int(self.ano)\n",
    "        print(f\"{self.nome} está no periodo {2 * self.period}\")\n",
    "    \n",
    "    def isfeliz(self):\n",
    "        import numpy as np\n",
    "        self.feliz = np.random.choice([\"não está\", 'está'],\n",
    "                                     p = [0.7, 0.3])\n",
    "        #print(f\"{self.nome} {self.feliz} feliz\")"
   ]
  },
  {
   "cell_type": "code",
   "execution_count": 56,
   "metadata": {},
   "outputs": [],
   "source": [
    "evellyn = uerjiano(\"Evellyn\", \"Mulher\", \"Quimica\", ano=2018)"
   ]
  },
  {
   "cell_type": "code",
   "execution_count": 51,
   "metadata": {},
   "outputs": [
    {
     "name": "stdout",
     "output_type": "stream",
     "text": [
      "Evellyn é um(a) Mulher e no momento está acordado\n"
     ]
    }
   ],
   "source": [
    "evellyn.descrever()"
   ]
  },
  {
   "cell_type": "code",
   "execution_count": 52,
   "metadata": {},
   "outputs": [
    {
     "name": "stdout",
     "output_type": "stream",
     "text": [
      "Evellyn não está feliz\n"
     ]
    }
   ],
   "source": [
    "evellyn.isfeliz()"
   ]
  },
  {
   "cell_type": "code",
   "execution_count": 57,
   "metadata": {},
   "outputs": [
    {
     "name": "stdout",
     "output_type": "stream",
     "text": [
      "100\n"
     ]
    }
   ],
   "source": [
    "count = 0\n",
    "\n",
    "for _ in range(365):\n",
    "    evellyn.isfeliz()\n",
    "    \n",
    "    if evellyn.feliz == 'está':\n",
    "        count +=1\n",
    "\n",
    "        \n",
    "print(count)"
   ]
  },
  {
   "cell_type": "markdown",
   "metadata": {},
   "source": [
    "Não temos o curso de fisica na FAT. Então vamos impedir de matricular um aluno para fazer fisica"
   ]
  },
  {
   "cell_type": "code",
   "execution_count": 59,
   "metadata": {},
   "outputs": [],
   "source": [
    "class uerjiano(humano):\n",
    "    \n",
    "    def __init__(self, nome, sexo, curso, ano):\n",
    "        \n",
    "        super().__init__(nome, sexo)\n",
    "        \n",
    "        \n",
    "        if curso.lower() in ['mecanica', 'quimica', 'produção']:\n",
    "            self.curso = curso\n",
    "        else:\n",
    "            raise ValueError(f\"Não tem o curso {curso} na FAT\")\n",
    "        \n",
    "        self.ano = ano\n",
    "        self.period = 0\n",
    "        self.feliz = 'está'\n",
    "        \n",
    "    def periodo(self):\n",
    "        from datetime import datetime\n",
    "        \n",
    "        self.period = datetime.now().year - int(self.ano)\n",
    "        print(f\"{self.nome} está no periodo {2 * self.period}\")\n",
    "    \n",
    "    def isfeliz(self):\n",
    "        import numpy as np\n",
    "        self.feliz = np.random.choice([\"não está\", 'está'],\n",
    "                                     p = [0.7, 0.3])\n",
    "        #print(f\"{self.nome} {self.feliz} feliz\")"
   ]
  },
  {
   "cell_type": "code",
   "execution_count": 58,
   "metadata": {},
   "outputs": [
    {
     "data": {
      "text/plain": [
       "'mecanica'"
      ]
     },
     "execution_count": 58,
     "metadata": {},
     "output_type": "execute_result"
    }
   ],
   "source": [
    "\"Mecanica\".lower()"
   ]
  },
  {
   "cell_type": "code",
   "execution_count": 60,
   "metadata": {},
   "outputs": [
    {
     "ename": "ValueError",
     "evalue": "Não tem o curso Fisica na FAT",
     "output_type": "error",
     "traceback": [
      "\u001b[0;31m---------------------------------------------------------------------------\u001b[0m",
      "\u001b[0;31mValueError\u001b[0m                                Traceback (most recent call last)",
      "\u001b[0;32m<ipython-input-60-8168fd7e269e>\u001b[0m in \u001b[0;36m<module>\u001b[0;34m\u001b[0m\n\u001b[0;32m----> 1\u001b[0;31m \u001b[0mvahid\u001b[0m \u001b[0;34m=\u001b[0m \u001b[0muerjiano\u001b[0m\u001b[0;34m(\u001b[0m\u001b[0;34m\"Vahid\"\u001b[0m\u001b[0;34m,\u001b[0m \u001b[0;34m'Homem'\u001b[0m\u001b[0;34m,\u001b[0m \u001b[0;34m\"Fisica\"\u001b[0m\u001b[0;34m,\u001b[0m \u001b[0;36m2020\u001b[0m\u001b[0;34m)\u001b[0m\u001b[0;34m\u001b[0m\u001b[0;34m\u001b[0m\u001b[0m\n\u001b[0m",
      "\u001b[0;32m<ipython-input-59-ecbe4ddd641f>\u001b[0m in \u001b[0;36m__init__\u001b[0;34m(self, nome, sexo, curso, ano)\u001b[0m\n\u001b[1;32m      9\u001b[0m             \u001b[0mself\u001b[0m\u001b[0;34m.\u001b[0m\u001b[0mcurso\u001b[0m \u001b[0;34m=\u001b[0m \u001b[0mcurso\u001b[0m\u001b[0;34m\u001b[0m\u001b[0;34m\u001b[0m\u001b[0m\n\u001b[1;32m     10\u001b[0m         \u001b[0;32melse\u001b[0m\u001b[0;34m:\u001b[0m\u001b[0;34m\u001b[0m\u001b[0;34m\u001b[0m\u001b[0m\n\u001b[0;32m---> 11\u001b[0;31m             \u001b[0;32mraise\u001b[0m \u001b[0mValueError\u001b[0m\u001b[0;34m(\u001b[0m\u001b[0;34mf\"Não tem o curso {curso} na FAT\"\u001b[0m\u001b[0;34m)\u001b[0m\u001b[0;34m\u001b[0m\u001b[0;34m\u001b[0m\u001b[0m\n\u001b[0m\u001b[1;32m     12\u001b[0m \u001b[0;34m\u001b[0m\u001b[0m\n\u001b[1;32m     13\u001b[0m         \u001b[0mself\u001b[0m\u001b[0;34m.\u001b[0m\u001b[0mano\u001b[0m \u001b[0;34m=\u001b[0m \u001b[0mano\u001b[0m\u001b[0;34m\u001b[0m\u001b[0;34m\u001b[0m\u001b[0m\n",
      "\u001b[0;31mValueError\u001b[0m: Não tem o curso Fisica na FAT"
     ]
    }
   ],
   "source": [
    "vahid = uerjiano(\"Vahid\", 'Homem', \"Fisica\", 2020)"
   ]
  },
  {
   "cell_type": "code",
   "execution_count": 61,
   "metadata": {},
   "outputs": [
    {
     "ename": "NameError",
     "evalue": "name 'vahid' is not defined",
     "output_type": "error",
     "traceback": [
      "\u001b[0;31m---------------------------------------------------------------------------\u001b[0m",
      "\u001b[0;31mNameError\u001b[0m                                 Traceback (most recent call last)",
      "\u001b[0;32m<ipython-input-61-c32451f5113b>\u001b[0m in \u001b[0;36m<module>\u001b[0;34m\u001b[0m\n\u001b[0;32m----> 1\u001b[0;31m \u001b[0mvahid\u001b[0m\u001b[0;34m.\u001b[0m\u001b[0msexo\u001b[0m\u001b[0;34m\u001b[0m\u001b[0;34m\u001b[0m\u001b[0m\n\u001b[0m",
      "\u001b[0;31mNameError\u001b[0m: name 'vahid' is not defined"
     ]
    }
   ],
   "source": [
    "vahid.sexo"
   ]
  },
  {
   "cell_type": "markdown",
   "metadata": {},
   "source": [
    "Usar uma classe para um atributo"
   ]
  },
  {
   "cell_type": "code",
   "execution_count": 62,
   "metadata": {},
   "outputs": [],
   "source": [
    "class Moradia:\n",
    "    \"\"\"Moradia de um ser humano\"\"\"\n",
    "    \n",
    "    def __init__(self, tipo = \"Repoblica\"):\n",
    "        self.moradia = tipo\n",
    "        \n",
    "    def descrever(self):\n",
    "        print(f\"o tipo da moradia da pessoa é {self.moradia}\")\n",
    "        "
   ]
  },
  {
   "cell_type": "code",
   "execution_count": 68,
   "metadata": {},
   "outputs": [],
   "source": [
    "class uerjiano(humano):\n",
    "    \n",
    "    def __init__(self, nome, sexo, curso, ano):\n",
    "        \n",
    "        super().__init__(nome, sexo)\n",
    "        \n",
    "        \n",
    "        if curso.lower() in ['mecanica', 'quimica', 'produção']:\n",
    "            self.curso = curso\n",
    "        else:\n",
    "            raise ValueError(f\"Não tem o curso {curso} na FAT\")\n",
    "        \n",
    "        self.ano = ano\n",
    "        self.period = 0\n",
    "        self.feliz = 'está'\n",
    "        self.moradia = Moradia()\n",
    "        \n",
    "    def periodo(self):\n",
    "        from datetime import datetime\n",
    "        \n",
    "        self.period = datetime.now().year - int(self.ano)\n",
    "        print(f\"{self.nome} está no periodo {2 * self.period}\")\n",
    "    \n",
    "    def isfeliz(self):\n",
    "        import numpy as np\n",
    "        self.feliz = np.random.choice([\"não está\", 'está'],\n",
    "                                     p = [0.7, 0.3])\n",
    "        print(f\"{self.nome} {self.feliz} feliz\")"
   ]
  },
  {
   "cell_type": "code",
   "execution_count": 69,
   "metadata": {},
   "outputs": [],
   "source": [
    "marco = uerjiano(\"Marco\", \"Homem\", \"Mecanica\", \"2018\")"
   ]
  },
  {
   "cell_type": "code",
   "execution_count": 70,
   "metadata": {},
   "outputs": [
    {
     "name": "stdout",
     "output_type": "stream",
     "text": [
      "Marco não está feliz\n"
     ]
    }
   ],
   "source": [
    "marco.isfeliz()"
   ]
  },
  {
   "cell_type": "code",
   "execution_count": 72,
   "metadata": {},
   "outputs": [
    {
     "name": "stdout",
     "output_type": "stream",
     "text": [
      "o tipo da moradia da pessoa é Repoblica\n"
     ]
    }
   ],
   "source": [
    "marco.moradia.descrever()"
   ]
  },
  {
   "cell_type": "code",
   "execution_count": 73,
   "metadata": {},
   "outputs": [
    {
     "name": "stdout",
     "output_type": "stream",
     "text": [
      "Marco está dormindo\n"
     ]
    }
   ],
   "source": [
    "marco.dormir()"
   ]
  },
  {
   "cell_type": "markdown",
   "metadata": {},
   "source": [
    "Resetamos o kernel e criamos o arquivo uerj.py"
   ]
  },
  {
   "cell_type": "code",
   "execution_count": 1,
   "metadata": {},
   "outputs": [],
   "source": [
    "from uerj import humano"
   ]
  },
  {
   "cell_type": "code",
   "execution_count": 2,
   "metadata": {},
   "outputs": [],
   "source": [
    "italo = humano(\"Italo\", \"Homem\")"
   ]
  },
  {
   "cell_type": "code",
   "execution_count": 3,
   "metadata": {},
   "outputs": [
    {
     "name": "stdout",
     "output_type": "stream",
     "text": [
      "Italo está acordado\n"
     ]
    }
   ],
   "source": [
    "italo.acordar()"
   ]
  },
  {
   "cell_type": "markdown",
   "metadata": {},
   "source": [
    "Resetamos o kernel"
   ]
  },
  {
   "cell_type": "code",
   "execution_count": 1,
   "metadata": {},
   "outputs": [],
   "source": [
    "from uerj import humano, uerjiano"
   ]
  },
  {
   "cell_type": "code",
   "execution_count": 2,
   "metadata": {},
   "outputs": [],
   "source": [
    "joao = uerjiano(\"João\", \"Homem\", \"Produção\", 2018)"
   ]
  },
  {
   "cell_type": "code",
   "execution_count": 3,
   "metadata": {},
   "outputs": [
    {
     "name": "stdout",
     "output_type": "stream",
     "text": [
      "João não está feliz\n"
     ]
    }
   ],
   "source": [
    "joao.isfeliz()"
   ]
  },
  {
   "cell_type": "markdown",
   "metadata": {},
   "source": [
    "Resetar"
   ]
  },
  {
   "cell_type": "code",
   "execution_count": 2,
   "metadata": {},
   "outputs": [],
   "source": [
    "import uerj as ue"
   ]
  },
  {
   "cell_type": "code",
   "execution_count": 3,
   "metadata": {},
   "outputs": [],
   "source": [
    "renan = ue.humano(\"Renan\", \"Homem\")"
   ]
  },
  {
   "cell_type": "code",
   "execution_count": 4,
   "metadata": {},
   "outputs": [
    {
     "name": "stdout",
     "output_type": "stream",
     "text": [
      "Renan cresceu um ano e agora tem 1 ano(s)\n"
     ]
    }
   ],
   "source": [
    "renan.aniversario()"
   ]
  },
  {
   "cell_type": "markdown",
   "metadata": {},
   "source": [
    "Resetar"
   ]
  },
  {
   "cell_type": "code",
   "execution_count": 1,
   "metadata": {},
   "outputs": [
    {
     "ename": "NameError",
     "evalue": "name 'humano' is not defined",
     "output_type": "error",
     "traceback": [
      "\u001b[0;31m---------------------------------------------------------------------------\u001b[0m",
      "\u001b[0;31mNameError\u001b[0m                                 Traceback (most recent call last)",
      "\u001b[0;32m<ipython-input-1-68b2600c0075>\u001b[0m in \u001b[0;36m<module>\u001b[0;34m\u001b[0m\n\u001b[0;32m----> 1\u001b[0;31m \u001b[0mrenan\u001b[0m \u001b[0;34m=\u001b[0m \u001b[0mhumano\u001b[0m\u001b[0;34m(\u001b[0m\u001b[0;34m\"Renan\"\u001b[0m\u001b[0;34m,\u001b[0m \u001b[0;34m\"Homem\"\u001b[0m\u001b[0;34m)\u001b[0m\u001b[0;34m\u001b[0m\u001b[0;34m\u001b[0m\u001b[0m\n\u001b[0m",
      "\u001b[0;31mNameError\u001b[0m: name 'humano' is not defined"
     ]
    }
   ],
   "source": [
    "renan = humano(\"Renan\", \"Homem\")"
   ]
  },
  {
   "cell_type": "code",
   "execution_count": 2,
   "metadata": {},
   "outputs": [],
   "source": [
    "from uerj import *"
   ]
  },
  {
   "cell_type": "code",
   "execution_count": 3,
   "metadata": {},
   "outputs": [],
   "source": [
    "renan = humano(\"Renan\", \"Homem\")"
   ]
  },
  {
   "cell_type": "code",
   "execution_count": null,
   "metadata": {},
   "outputs": [],
   "source": [
    "uer"
   ]
  }
 ],
 "metadata": {
  "kernelspec": {
   "display_name": "Python 3",
   "language": "python",
   "name": "python3"
  },
  "language_info": {
   "codemirror_mode": {
    "name": "ipython",
    "version": 3
   },
   "file_extension": ".py",
   "mimetype": "text/x-python",
   "name": "python",
   "nbconvert_exporter": "python",
   "pygments_lexer": "ipython3",
   "version": "3.7.8"
  },
  "toc": {
   "base_numbering": 1,
   "nav_menu": {},
   "number_sections": true,
   "sideBar": true,
   "skip_h1_title": false,
   "title_cell": "Table of Contents",
   "title_sidebar": "Contents",
   "toc_cell": false,
   "toc_position": {},
   "toc_section_display": true,
   "toc_window_display": false
  },
  "varInspector": {
   "cols": {
    "lenName": 16,
    "lenType": 16,
    "lenVar": 40
   },
   "kernels_config": {
    "python": {
     "delete_cmd_postfix": "",
     "delete_cmd_prefix": "del ",
     "library": "var_list.py",
     "varRefreshCmd": "print(var_dic_list())"
    },
    "r": {
     "delete_cmd_postfix": ") ",
     "delete_cmd_prefix": "rm(",
     "library": "var_list.r",
     "varRefreshCmd": "cat(var_dic_list()) "
    }
   },
   "types_to_exclude": [
    "module",
    "function",
    "builtin_function_or_method",
    "instance",
    "_Feature"
   ],
   "window_display": false
  }
 },
 "nbformat": 4,
 "nbformat_minor": 4
}
